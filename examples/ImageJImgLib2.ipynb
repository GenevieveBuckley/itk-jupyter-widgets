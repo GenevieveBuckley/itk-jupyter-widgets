{
 "cells": [
  {
   "cell_type": "code",
   "execution_count": null,
   "metadata": {},
   "outputs": [],
   "source": [
    "# Install dependencies for this example\n",
    "#\n",
    "# Here we assume itkwidgets has already been installed\n",
    "import sys\n",
    "!conda install --yes --prefix {sys.prefix} -c hanslovsky imglib2-imglyb\n",
    "!{sys.executable} -m pip install imagej"
   ]
  },
  {
   "cell_type": "code",
   "execution_count": null,
   "metadata": {},
   "outputs": [],
   "source": [
    "import urllib.request\n",
    "import os\n",
    "\n",
    "import itk\n",
    "import numpy as np\n",
    "\n",
    "from itkwidgets import view"
   ]
  },
  {
   "cell_type": "code",
   "execution_count": null,
   "metadata": {},
   "outputs": [],
   "source": [
    "# Initialize imagej\n",
    "# Replace the value below with the path to your local Fiji installation.\n",
    "fiji_path = '/home/matt/bin/Fiji.app/'\n",
    "\n",
    "import imagej\n",
    "ij = imagej.init(fiji_path)\n",
    "import imglyb"
   ]
  },
  {
   "cell_type": "code",
   "execution_count": null,
   "metadata": {},
   "outputs": [],
   "source": [
    "# Download data\n",
    "file_name = 'General_EduRes_Heart_BloodVessels_0.jpg'\n",
    "if not os.path.exists(file_name):\n",
    "    url = 'https://data.kitware.com/api/v1/file/5afe74408d777f15ebe1d701/download'\n",
    "    urllib.request.urlretrieve(url, file_name)"
   ]
  },
  {
   "cell_type": "code",
   "execution_count": null,
   "metadata": {},
   "outputs": [],
   "source": [
    "image = itk.imread(file_name, pixelType=itk.ctype('float'))\n",
    "view(image)"
   ]
  },
  {
   "cell_type": "code",
   "execution_count": null,
   "metadata": {},
   "outputs": [],
   "source": [
    "image_arr = itk.GetArrayViewFromImage(image)\n",
    "image_imglyb = imglyb.to_imglib(image_arr)"
   ]
  },
  {
   "cell_type": "code",
   "execution_count": null,
   "metadata": {
    "scrolled": true
   },
   "outputs": [],
   "source": [
    "# Invoke the Frangi vesselness op.\n",
    "vessels = np.zeros(image_arr.shape, dtype=np.float32)\n",
    "ij.op().filter().frangiVesselness(imglyb.to_imglib(vessels), image_imglyb, [1, 1], 20)"
   ]
  },
  {
   "cell_type": "code",
   "execution_count": null,
   "metadata": {},
   "outputs": [],
   "source": [
    "view(vessels)"
   ]
  }
 ],
 "metadata": {
  "kernelspec": {
   "display_name": "Python 3",
   "language": "python",
   "name": "python3"
  },
  "language_info": {
   "codemirror_mode": {
    "name": "ipython",
    "version": 3
   },
   "file_extension": ".py",
   "mimetype": "text/x-python",
   "name": "python",
   "nbconvert_exporter": "python",
   "pygments_lexer": "ipython3",
   "version": "3.6.5"
  }
 },
 "nbformat": 4,
 "nbformat_minor": 2
}
