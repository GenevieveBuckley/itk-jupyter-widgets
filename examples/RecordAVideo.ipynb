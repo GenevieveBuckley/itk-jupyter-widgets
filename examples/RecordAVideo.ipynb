{
 "cells": [
  {
   "cell_type": "code",
   "execution_count": null,
   "metadata": {},
   "outputs": [],
   "source": [
    "# Install dependencies for this example\n",
    "# Note: This does not include itk-jupyter-widgets, itself\n",
    "import sys\n",
    "!{sys.executable} -m pip install itk-io"
   ]
  },
  {
   "cell_type": "code",
   "execution_count": 1,
   "metadata": {},
   "outputs": [],
   "source": [
    "try:\n",
    "    from urllib.request import urlretrieve\n",
    "except ImportError:\n",
    "    from urllib import urlretrieve\n",
    "import os\n",
    "\n",
    "import itk\n",
    "\n",
    "from itkwidgets import view\n",
    "# 2018-07-35: requires a development install of ipywebrtc\n",
    "import ipywebrtc as webrtc"
   ]
  },
  {
   "cell_type": "code",
   "execution_count": 2,
   "metadata": {},
   "outputs": [],
   "source": [
    "# Download data\n",
    "file_name = '005_32months_T2_RegT1_Reg2Atlas_ManualBrainMask_Stripped.nrrd'\n",
    "if not os.path.exists(file_name):\n",
    "    url = 'https://data.kitware.com/api/v1/file/564a5b078d777f7522dbfaa6/download'\n",
    "    urlretrieve(url, file_name)"
   ]
  },
  {
   "cell_type": "code",
   "execution_count": 3,
   "metadata": {},
   "outputs": [
    {
     "data": {
      "application/vnd.jupyter.widget-view+json": {
       "model_id": "e0d65d13f2834db082f5df785a488904",
       "version_major": 2,
       "version_minor": 0
      },
      "text/plain": [
       "Viewer(rendered_image=<itkImagePython.itkImageSS3; proxy of <Swig Object of type 'itkImageSS3 *' at 0x7f2ab2be…"
      ]
     },
     "metadata": {},
     "output_type": "display_data"
    }
   ],
   "source": [
    "image = itk.imread(file_name)\n",
    "viewer = view(image)\n",
    "viewer"
   ]
  },
  {
   "cell_type": "code",
   "execution_count": 11,
   "metadata": {},
   "outputs": [
    {
     "data": {
      "application/vnd.jupyter.widget-view+json": {
       "model_id": "5f0d634a0e2d40f6a469f5d19376cf38",
       "version_major": 2,
       "version_minor": 0
      },
      "text/plain": [
       "MediaRecorder(autosave=True, filename='widget_video.webm', stream=Viewer(rendered_image=<itkImagePython.itkIma…"
      ]
     },
     "metadata": {},
     "output_type": "display_data"
    }
   ],
   "source": [
    "recorder = webrtc.MediaRecorder(stream=viewer, filename='widget_video.webm', autosave=True)\n",
    "recorder"
   ]
  },
  {
   "cell_type": "markdown",
   "metadata": {},
   "source": [
    "In addition to recording, playing back, and downloading videos (shown above), it is possible to take and save screenshots."
   ]
  },
  {
   "cell_type": "code",
   "execution_count": 14,
   "metadata": {},
   "outputs": [
    {
     "data": {
      "application/vnd.jupyter.widget-view+json": {
       "model_id": "25499682c965454eb85fa5393210d78d",
       "version_major": 2,
       "version_minor": 0
      },
      "text/plain": [
       "MediaImageRecorder(filename='widget_image', image=Image(value=b''), stream=Viewer(rendered_image=<itkImagePyth…"
      ]
     },
     "metadata": {},
     "output_type": "display_data"
    }
   ],
   "source": [
    "image_recorder = webrtc.MediaImageRecorder(stream=viewer, filename='widget_image', autosave=True)\n",
    "image_recorder"
   ]
  }
 ],
 "metadata": {
  "kernelspec": {
   "display_name": "Python 2",
   "language": "python",
   "name": "python2"
  },
  "language_info": {
   "codemirror_mode": {
    "name": "ipython",
    "version": 3
   },
   "file_extension": ".py",
   "mimetype": "text/x-python",
   "name": "python",
   "nbconvert_exporter": "python",
   "pygments_lexer": "ipython3",
   "version": "3.6.5"
  }
 },
 "nbformat": 4,
 "nbformat_minor": 2
}
