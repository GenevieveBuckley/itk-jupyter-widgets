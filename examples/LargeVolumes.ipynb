{
 "cells": [
  {
   "cell_type": "code",
   "execution_count": null,
   "metadata": {},
   "outputs": [],
   "source": [
    "# Install dependencies for this example\n",
    "# Note: This does not include itk-jupyter-widgets, itself\n",
    "import sys\n",
    "!{sys.executable} -m pip install itk-io requests tqdm"
   ]
  },
  {
   "cell_type": "code",
   "execution_count": 1,
   "metadata": {},
   "outputs": [],
   "source": [
    "import requests\n",
    "from tqdm import tqdm_notebook as tqdm\n",
    "import os\n",
    "\n",
    "import numpy as np\n",
    "import itk\n",
    "\n",
    "from itkwidgets import view\n",
    "import itkwidgets"
   ]
  },
  {
   "cell_type": "code",
   "execution_count": 2,
   "metadata": {},
   "outputs": [],
   "source": [
    "def download_data(url, filename):\n",
    "    if not os.path.exists(filename):\n",
    "        chunk_size = 32 * 1024\n",
    "        r = requests.get(url, stream=True)\n",
    "        total_size = int(r.headers.get('content-length', 0))\n",
    "        pbar = tqdm(unit=\"B\", unit_scale=True, total=int(total_size))\n",
    "        with open(filename, 'wb') as f:\n",
    "            for chunk in r.iter_content(chunk_size=chunk_size): \n",
    "                if chunk: # filter out keep-alive new chunks\n",
    "                    pbar.update(len(chunk))\n",
    "                    f.write(chunk)\n",
    "                    \n",
    "# Download example data\n",
    "# Source: https://cvlab.epfl.ch/data/em\n",
    "#\n",
    "# 1024x768x165 unsigned char, 124MB file\n",
    "large_url = 'https://documents.epfl.ch/groups/c/cv/cvlab-unit/www/data/%20ElectronMicroscopy_Hippocampus/training.tif'\n",
    "large_filename = 'large_hippocampus.tif'\n",
    "\n",
    "# 2048x1536x1065 unsigned char, 3.2GB file\n",
    "very_large_url = 'https://documents.epfl.ch/groups/c/cv/cvlab-unit/www/data/%20ElectronMicroscopy_Hippocampus/volumedata.tif'\n",
    "very_large_filename = 'very_large_hippocampus.tif'"
   ]
  },
  {
   "cell_type": "code",
   "execution_count": 3,
   "metadata": {},
   "outputs": [],
   "source": [
    "download_data(large_url, large_filename)"
   ]
  },
  {
   "cell_type": "code",
   "execution_count": 4,
   "metadata": {},
   "outputs": [
    {
     "name": "stdout",
     "output_type": "stream",
     "text": [
      "CPU times: user 560 ms, sys: 128 ms, total: 688 ms\n",
      "Wall time: 679 ms\n"
     ]
    }
   ],
   "source": [
    "%time large_image = itk.imread(large_filename)"
   ]
  },
  {
   "cell_type": "code",
   "execution_count": 6,
   "metadata": {},
   "outputs": [
    {
     "name": "stdout",
     "output_type": "stream",
     "text": [
      "CPU times: user 520 ms, sys: 92 ms, total: 612 ms\n",
      "Wall time: 127 ms\n"
     ]
    },
    {
     "data": {
      "application/vnd.jupyter.widget-view+json": {
       "model_id": "67dc463ad564454a9264ba96a30d907e",
       "version_major": 2,
       "version_minor": 0
      },
      "text/plain": [
       "Vmlld2VyKGFubm90YXRpb25zPUZhbHNlLCBjbWFwPXUnZ3JheV9NYXRsYWInLCBncmFkaWVudF9vcGFjaXR5PTAuNCwgcmVuZGVyZWRfaW1hZ2U9PGl0a0ltYWdlUHl0aG9uLml0a0ltYWdlVUPigKY=\n"
      ]
     },
     "metadata": {},
     "output_type": "display_data"
    }
   ],
   "source": [
    "%time view(large_image, gradient_opacity=0.4, shadow=False, cmap=itkwidgets.cm.gray, annotations=False)"
   ]
  },
  {
   "cell_type": "markdown",
   "metadata": {},
   "source": [
    "Next, click the crop button in the widget user interface. Adjust the location of the region of interest (roi) by click and dragging the corner of the cropping box.\n",
    "\n",
    "Large images are decimated for visualization; higher resolutions are presented as the roi shrinks."
   ]
  },
  {
   "cell_type": "code",
   "execution_count": 7,
   "metadata": {},
   "outputs": [],
   "source": [
    "download_data(very_large_url, very_large_filename)"
   ]
  },
  {
   "cell_type": "code",
   "execution_count": 9,
   "metadata": {},
   "outputs": [
    {
     "name": "stdout",
     "output_type": "stream",
     "text": [
      "CPU times: user 836 ms, sys: 1.71 s, total: 2.55 s\n",
      "Wall time: 2.55 s\n"
     ]
    }
   ],
   "source": [
    "%time very_large_image = itk.imread(very_large_filename)"
   ]
  },
  {
   "cell_type": "code",
   "execution_count": 10,
   "metadata": {},
   "outputs": [
    {
     "name": "stdout",
     "output_type": "stream",
     "text": [
      "CPU times: user 11.8 s, sys: 2.84 s, total: 14.6 s\n",
      "Wall time: 1.35 s\n"
     ]
    },
    {
     "data": {
      "application/vnd.jupyter.widget-view+json": {
       "model_id": "",
       "version_major": 2,
       "version_minor": 0
      },
      "text/plain": [
       "Vmlld2VyKGFubm90YXRpb25zPUZhbHNlLCBjbWFwPXUnZ3JheV9NYXRsYWInLCBncmFkaWVudF9vcGFjaXR5PTAuNCwgcmVuZGVyZWRfaW1hZ2U9PGl0a0ltYWdlUHl0aG9uLml0a0ltYWdlVUPigKY=\n"
      ]
     },
     "metadata": {},
     "output_type": "display_data"
    }
   ],
   "source": [
    "%time view(very_large_image, gradient_opacity=0.4, shadow=False, cmap=itkwidgets.cm.gray, annotations=False)"
   ]
  },
  {
   "cell_type": "markdown",
   "metadata": {},
   "source": [
    "To change the resolution of the rendered image, use the `size_limit_3d` keyword."
   ]
  },
  {
   "cell_type": "code",
   "execution_count": 12,
   "metadata": {},
   "outputs": [
    {
     "name": "stdout",
     "output_type": "stream",
     "text": [
      "CPU times: user 11.7 s, sys: 2.35 s, total: 14 s\n",
      "Wall time: 1.38 s\n"
     ]
    },
    {
     "data": {
      "application/vnd.jupyter.widget-view+json": {
       "model_id": "e33fd092622c4d41b60fab24b1db1260",
       "version_major": 2,
       "version_minor": 0
      },
      "text/plain": [
       "Vmlld2VyKGFubm90YXRpb25zPUZhbHNlLCBjbWFwPXUnZ3JheV9NYXRsYWInLCBncmFkaWVudF9vcGFjaXR5PTAuMywgcmVuZGVyZWRfaW1hZ2U9PGl0a0ltYWdlUHl0aG9uLml0a0ltYWdlVUPigKY=\n"
      ]
     },
     "metadata": {},
     "output_type": "display_data"
    }
   ],
   "source": [
    "size_limit_3d = [128, 128, 128]\n",
    "%time view(very_large_image, size_limit_3d=size_limit_3d, gradient_opacity=0.3, shadow=False, cmap=itkwidgets.cm.gray, annotations=False)"
   ]
  }
 ],
 "metadata": {
  "kernelspec": {
   "display_name": "Python 2",
   "language": "python",
   "name": "python2"
  },
  "language_info": {
   "codemirror_mode": {
    "name": "ipython",
    "version": 2
   },
   "file_extension": ".py",
   "mimetype": "text/x-python",
   "name": "python",
   "nbconvert_exporter": "python",
   "pygments_lexer": "ipython2",
   "version": "2.7.13"
  }
 },
 "nbformat": 4,
 "nbformat_minor": 2
}
