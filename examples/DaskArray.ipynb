{
 "cells": [
  {
   "cell_type": "code",
   "execution_count": null,
   "metadata": {},
   "outputs": [],
   "source": [
    "# Install dependencies for this example\n",
    "# Note: This does not include itk-jupyter-widgets, itself\n",
    "import sys\n",
    "!{sys.executable} -m pip install dask toolz scikit-image matplotlib"
   ]
  },
  {
   "cell_type": "code",
   "execution_count": null,
   "metadata": {},
   "outputs": [],
   "source": [
    "import numpy as np\n",
    "import dask.array as da\n",
    "import dask\n",
    "import skimage.io\n",
    "import matplotlib.pyplot as plt\n",
    "%matplotlib inline\n",
    "\n",
    "from itkwidgets import view"
   ]
  },
  {
   "cell_type": "markdown",
   "metadata": {},
   "source": [
    "This example is based on\n",
    "\n",
    "  http://matthewrocklin.com/blog/work/2017/01/17/dask-images"
   ]
  },
  {
   "cell_type": "code",
   "execution_count": null,
   "metadata": {},
   "outputs": [],
   "source": [
    "sample = skimage.io.imread('http://emdata.janelia.org/api/node/82252/grayscale/raw/xy/400_400/2000_2100_5000')\n",
    "view(sample)"
   ]
  },
  {
   "cell_type": "markdown",
   "metadata": {},
   "source": [
    "The last number in the URL is an index into a large stack of about 7000 images. We can change that number to get different slices through our 3D dataset."
   ]
  },
  {
   "cell_type": "code",
   "execution_count": null,
   "metadata": {},
   "outputs": [],
   "source": [
    "samples = [skimage.io.imread('http://emdata.janelia.org/api/node/82252/grayscale/raw/xy/200_200/3000_3100_%d' % i)\n",
    "    for i in [2000, 3000, 4000, 5000, 6000, 7000, 8000]]\n",
    "\n",
    "fig, axarr = plt.subplots(1, 7, sharex=True, sharey=True, figsize=(24, 2.5))\n",
    "for i, sample in enumerate(samples):\n",
    "    axarr[i].imshow(sample, cmap='gray')"
   ]
  },
  {
   "cell_type": "code",
   "execution_count": null,
   "metadata": {},
   "outputs": [],
   "source": [
    "imread = dask.delayed(skimage.io.imread)  # Lazy version of imread\n",
    "\n",
    "urls = ['http://emdata.janelia.org/api/node/82252/grayscale/raw/xy/200_200/3000_3100_%d' % i\n",
    "        for i in range(4000, 4200)]  # A list of our URLs\n",
    "\n",
    "lazy_values = [imread(url) for url in urls]     # Lazily evaluate imread on each url\n",
    "\n",
    "arrays = [da.from_delayed(lazy_value,           # Construct a small Dask array\n",
    "                          dtype=sample.dtype,   # for every lazy value\n",
    "                          shape=sample.shape)\n",
    "          for lazy_value in lazy_values]\n",
    "\n",
    "stack = da.stack(arrays, axis=0)                # Stack all small Dask arrays into one\n",
    "stack = stack.rechunk((20, 200, 200)) "
   ]
  },
  {
   "cell_type": "markdown",
   "metadata": {},
   "source": [
    "The image stack is downloaded on-demand when we visualize it."
   ]
  },
  {
   "cell_type": "code",
   "execution_count": null,
   "metadata": {},
   "outputs": [],
   "source": [
    "view(stack, shadow=False)"
   ]
  }
 ],
 "metadata": {
  "kernelspec": {
   "display_name": "Python 2",
   "language": "python",
   "name": "python2"
  },
  "language_info": {
   "codemirror_mode": {
    "name": "ipython",
    "version": 2
   },
   "file_extension": ".py",
   "mimetype": "text/x-python",
   "name": "python",
   "nbconvert_exporter": "python",
   "pygments_lexer": "ipython2",
   "version": "2.7.13"
  }
 },
 "nbformat": 4,
 "nbformat_minor": 2
}
